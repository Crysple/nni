{
 "cells": [
  {
   "cell_type": "code",
   "execution_count": 90,
   "metadata": {},
   "outputs": [],
   "source": [
    "import ast, astor\n",
    "import json"
   ]
  },
  {
   "cell_type": "code",
   "execution_count": 68,
   "metadata": {},
   "outputs": [],
   "source": [
    "file_content = open('design.py', 'r').read()\n",
    "ast_tree = ast.parse(file_content)"
   ]
  },
  {
   "cell_type": "code",
   "execution_count": 69,
   "metadata": {},
   "outputs": [
    {
     "data": {
      "text/plain": [
       "<_ast.Module at 0x7ff1080ec160>"
      ]
     },
     "execution_count": 69,
     "metadata": {},
     "output_type": "execute_result"
    }
   ],
   "source": [
    "ast_tree"
   ]
  },
  {
   "cell_type": "code",
   "execution_count": 70,
   "metadata": {},
   "outputs": [],
   "source": [
    "s = ast_tree.body[0].value.s"
   ]
  },
  {
   "cell_type": "code",
   "execution_count": 72,
   "metadata": {},
   "outputs": [],
   "source": [
    "if s.startswith('@nni.architecture'):\n",
    "    block = ast.parse(s[len('@nni.architecture')+1:])"
   ]
  },
  {
   "cell_type": "code",
   "execution_count": 71,
   "metadata": {},
   "outputs": [
    {
     "data": {
      "text/plain": [
       "<_ast.Module at 0x7ff108110ac8>"
      ]
     },
     "execution_count": 71,
     "metadata": {},
     "output_type": "execute_result"
    }
   ],
   "source": []
  },
  {
   "cell_type": "code",
   "execution_count": 363,
   "metadata": {},
   "outputs": [],
   "source": [
    "sss='''import sys\n",
    "\n",
    "\"\"\"@nni.architecture\n",
    "{\n",
    "    layer_1: {\n",
    "        layer_choice: [tanh, ReLU, identity, sigmoid],\n",
    "        input_candidates: [images],\n",
    "        input_num: 1,\n",
    "        input_aggregate: None,\n",
    "        outputs: layer_1_out,\n",
    "    },\n",
    "\n",
    "    layer_2: {\n",
    "        layer_choice: [tanh, ReLU, identity, sigmoid],\n",
    "        input_candidates: [layer_1_out],\n",
    "        input_num: 1,\n",
    "        input_aggregate: None,\n",
    "        outputs: layer_2_out,\n",
    "    },\n",
    "\n",
    "    layer_3: {\n",
    "        layer_choice: [tanh, ReLU, identity, sigmoid],\n",
    "        input_candidates: [layer_1_out, layer_2_out],\n",
    "        input_num: 1,\n",
    "        input_aggregate: None,\n",
    "        outputs: layer_3_out,\n",
    "    }\n",
    "}\"\"\"\n",
    "final_output = layer_3_out\n",
    "\n",
    "'''"
   ]
  },
  {
   "cell_type": "code",
   "execution_count": 404,
   "metadata": {},
   "outputs": [],
   "source": [
    "sss='''import sys\n",
    "import numpy\n",
    "\n",
    "def tanh():\n",
    "    pass\n",
    "\n",
    "def Relu():\n",
    "    pass\n",
    "\n",
    "images=load_data()\n",
    "\n",
    "\"\"\"@nni.architecture\n",
    "{\n",
    "    layer_1: {\n",
    "        layer_choice: [tanh, ReLU, identity, sigmoid],\n",
    "        input_candidates: [images],\n",
    "        input_num: 1,\n",
    "        input_aggregate: None,\n",
    "        outputs: layer_1_out,\n",
    "    },\n",
    "\n",
    "    layer_2: {\n",
    "        layer_choice: [tanh, ReLU, identity, sigmoid],\n",
    "        input_candidates: [layer_1_out],\n",
    "        input_num: 1,\n",
    "        input_aggregate: None,\n",
    "        outputs: layer_2_out,\n",
    "    },\n",
    "\n",
    "    layer_3: {\n",
    "        layer_choice: [tanh, ReLU, identity, sigmoid],\n",
    "        input_candidates: [layer_1_out, layer_2_out],\n",
    "        input_num: 1,\n",
    "        input_aggregate: None,\n",
    "        outputs: layer_3_out,\n",
    "    }\n",
    "}\"\"\"\n",
    "final_output = layer_3_out\n",
    "all = [layer_1_out, layer_2_out, layer_3_out]\n",
    "if __name__ == 'main':\n",
    "    func()\n",
    "\n",
    "'''\n"
   ]
  },
  {
   "cell_type": "code",
   "execution_count": 450,
   "metadata": {},
   "outputs": [],
   "source": [
    "class Rewrite_dict_keys(ast.NodeTransformer):\n",
    "    '''from ast.Name to ast.Str'''\n",
    "    def visit_Dict(self, node):\n",
    "        self.generic_visit(node)\n",
    "        node.keys = [ast.Str(key.id) for key in node.keys]\n",
    "        keys = [key.s for key in node.keys]\n",
    "        if 'outputs' in keys:\n",
    "            index = keys.index('outputs')\n",
    "            print('here')\n",
    "            node.values[index] = ast.Str(s=node.values[index].id)\n",
    "        if 'input_candidates' in keys:\n",
    "            index = keys.index('input_candidates')\n",
    "            node.values[index].elts = [ast.Str(s=name.id) for name in node.values[index].elts]\n",
    "        \n",
    "        #is_needed = lambda idx, val:isinstance(val, ast.Name) and node.keys[idx].s=='outputs'\n",
    "        #node.values = [ast.Str(s=val.id) if is_needed(idx, val) else val for idx, val in enumerate(node.values)]\n",
    "        \n",
    "        return node\n",
    "\n",
    "class NodeTransformer(ast.NodeTransformer):\n",
    "    '''from ast.Name to ast.Str'''\n",
    "    def __init__(self):\n",
    "        self.rewrite_dict_keys = Rewrite_dict_keys()\n",
    "        self.layer_dict_initialized = False\n",
    "        self.layer_dict_name = 'nni_layer_info'\n",
    "        \n",
    "    def define_dict(self):\n",
    "        return ast.parse(self.layer_dict_name+\"=dict()\").body[0]\n",
    "\n",
    "    def make_attr_call(self, attr_name, attr_attr, args):\n",
    "        '''generate an attribute call'''\n",
    "        attribute = ast.Attribute(value=ast.Name(id=attr_name), attr=attr_attr)\n",
    "        call_node = ast.Call(func=attribute, args=args, keywords=[])\n",
    "        \n",
    "        return call_node\n",
    "        \n",
    "    def update_dict(self, node):\n",
    "        call_node = self.make_attr_call(self.layer_dict_name, 'update', [node])\n",
    "\n",
    "        return ast.Expr(value=call_node)\n",
    "\n",
    "    def get_layer_output(self, layer_name):\n",
    "        '''generate an dict node like 'self.nni_layer_info'['layer_name']['outputs']'''\n",
    "        inner_value = ast.Name(id=self.layer_dict_name, ctx=ast.Load())\n",
    "        inner_slice = ast.Index(value=ast.Str(s=layer_name))\n",
    "        inner_dict = ast.Subscript(value=inner_value, slice=inner_slice, ctx=ast.Load())\n",
    "        \n",
    "        outer_slice = ast.Index(value=ast.Str(s='outputs'))\n",
    "        outer_dict = ast.Subscript(value=inner_dict, slice=outer_slice, ctx=ast.Store())\n",
    "\n",
    "        return outer_dict\n",
    "\n",
    "    def get_define_layer_nodes(self, dict_node):\n",
    "        layer_nodes = list()\n",
    "        for layer_name, info in zip(dict_node.keys, dict_node.values):\n",
    "            info_keys = [key.s for key in info.keys]\n",
    "            output_node = ast.Name(id=info.values[info_keys.index('outputs')].s)\n",
    "            # call NNI API to get output\n",
    "            args = [ast.Name(id=self.layer_dict_name), ast.Str(layer_name.s)]\n",
    "            value_node = self.make_attr_call('nni','get_layer_output', args)\n",
    "            assign_node = ast.Assign(targets=[output_node], value=value_node)\n",
    "            layer_nodes.append(assign_node)\n",
    "            \n",
    "        return layer_nodes\n",
    "\n",
    "    def visit(self, node):\n",
    "        self.generic_visit(node)\n",
    "        if type(node) is ast.Expr and type(node.value) is ast.Str:\n",
    "            string = node.value.s\n",
    "            flag = '@nni.architecture'\n",
    "            if string.startswith(flag):\n",
    "                return_node_list = list()\n",
    "                dict_node = ast.parse(string[len(flag)+1:])\n",
    "                dict_node = self.rewrite_dict_keys.visit(dict_node)\n",
    "                dict_node = dict_node.body[0].value\n",
    "                if not self.layer_dict_initialized:\n",
    "                    self.layer_dict_initialized = True\n",
    "                    return_node_list.append(self.define_dict())\n",
    "                return_node_list.append(self.update_dict(dict_node))\n",
    "                #layer_names = [layer_name.s for layer_name in dict_node.keys]\n",
    "                return_node_list.extend(self.get_define_layer_nodes(dict_node))\n",
    "                \n",
    "                return (*return_node_list,)\n",
    "        return node"
   ]
  },
  {
   "cell_type": "code",
   "execution_count": 451,
   "metadata": {},
   "outputs": [
    {
     "name": "stdout",
     "output_type": "stream",
     "text": [
      "here\n",
      "here\n",
      "here\n"
     ]
    }
   ],
   "source": [
    "nodeTransformer = NodeTransformer()\n",
    "tt = nodeTransformer.visit(ast.parse(sss))"
   ]
  },
  {
   "cell_type": "code",
   "execution_count": 452,
   "metadata": {},
   "outputs": [
    {
     "name": "stdout",
     "output_type": "stream",
     "text": [
      "import sys\n",
      "import numpy\n",
      "\n",
      "\n",
      "def tanh():\n",
      "    pass\n",
      "\n",
      "\n",
      "def Relu():\n",
      "    pass\n",
      "\n",
      "\n",
      "images = load_data()\n",
      "nni_layer_info = dict()\n",
      "nni_layer_info.update({'layer_1': {'layer_choice': [tanh, ReLU, identity,\n",
      "    sigmoid], 'input_candidates': ['images'], 'input_num': 1,\n",
      "    'input_aggregate': None, 'outputs': 'layer_1_out'}, 'layer_2': {\n",
      "    'layer_choice': [tanh, ReLU, identity, sigmoid], 'input_candidates': [\n",
      "    'layer_1_out'], 'input_num': 1, 'input_aggregate': None, 'outputs':\n",
      "    'layer_2_out'}, 'layer_3': {'layer_choice': [tanh, ReLU, identity,\n",
      "    sigmoid], 'input_candidates': ['layer_1_out', 'layer_2_out'],\n",
      "    'input_num': 1, 'input_aggregate': None, 'outputs': 'layer_3_out'}})\n",
      "layer_1_out = nni.get_layer_output(nni_layer_info, 'layer_1')\n",
      "layer_2_out = nni.get_layer_output(nni_layer_info, 'layer_2')\n",
      "layer_3_out = nni.get_layer_output(nni_layer_info, 'layer_3')\n",
      "final_output = layer_3_out\n",
      "all = [layer_1_out, layer_2_out, layer_3_out]\n",
      "if __name__ == 'main':\n",
      "    func()\n",
      "\n"
     ]
    }
   ],
   "source": [
    "print(astor.to_source(tt))"
   ]
  },
  {
   "cell_type": "code",
   "execution_count": 378,
   "metadata": {
    "scrolled": true
   },
   "outputs": [
    {
     "name": "stdout",
     "output_type": "stream",
     "text": [
      "Module(\n",
      "    body=[Import(names=[alias(name='sys', asname=None)]),\n",
      "        Import(names=[alias(name='numpy', asname=None)]),\n",
      "        FunctionDef(name='tanh',\n",
      "            args=arguments(args=[], vararg=None, kwonlyargs=[], kw_defaults=[], kwarg=None, defaults=[]),\n",
      "            body=[Pass],\n",
      "            decorator_list=[],\n",
      "            returns=None),\n",
      "        FunctionDef(name='Relu',\n",
      "            args=arguments(args=[], vararg=None, kwonlyargs=[], kw_defaults=[], kwarg=None, defaults=[]),\n",
      "            body=[Pass],\n",
      "            decorator_list=[],\n",
      "            returns=None),\n",
      "        Assign(targets=[Name(id='images')], value=Call(func=Name(id='load_data'), args=[], keywords=[])),\n",
      "        Assign(targets=[Name(id='nni_layer_info')], value=Call(func=Name(id='dict'), args=[], keywords=[])),\n",
      "        Expr(\n",
      "            value=Call(func=Attribute(value=Name(id='nni_layer_info'), attr='update'),\n",
      "                args=[\n",
      "                    Dict(keys=[Str(s='layer_1'), Str(s='layer_2'), Str(s='layer_3')],\n",
      "                        values=[\n",
      "                            Dict(\n",
      "                                keys=[Str(s='layer_choice'),\n",
      "                                    Str(s='input_candidates'),\n",
      "                                    Str(s='input_num'),\n",
      "                                    Str(s='input_aggregate'),\n",
      "                                    Str(s='outputs')],\n",
      "                                values=[\n",
      "                                    List(\n",
      "                                        elts=[Name(id='tanh'),\n",
      "                                            Name(id='ReLU'),\n",
      "                                            Name(id='identity'),\n",
      "                                            Name(id='sigmoid')]),\n",
      "                                    List(elts=[Name(id='images')]),\n",
      "                                    Num(n=1),\n",
      "                                    NameConstant(value=None),\n",
      "                                    Name(id='layer_1_out')]),\n",
      "                            Dict(\n",
      "                                keys=[Str(s='layer_choice'),\n",
      "                                    Str(s='input_candidates'),\n",
      "                                    Str(s='input_num'),\n",
      "                                    Str(s='input_aggregate'),\n",
      "                                    Str(s='outputs')],\n",
      "                                values=[\n",
      "                                    List(\n",
      "                                        elts=[Name(id='tanh'),\n",
      "                                            Name(id='ReLU'),\n",
      "                                            Name(id='identity'),\n",
      "                                            Name(id='sigmoid')]),\n",
      "                                    List(elts=[Name(id='layer_1_out')]),\n",
      "                                    Num(n=1),\n",
      "                                    NameConstant(value=None),\n",
      "                                    Name(id='layer_2_out')]),\n",
      "                            Dict(\n",
      "                                keys=[Str(s='layer_choice'),\n",
      "                                    Str(s='input_candidates'),\n",
      "                                    Str(s='input_num'),\n",
      "                                    Str(s='input_aggregate'),\n",
      "                                    Str(s='outputs')],\n",
      "                                values=[\n",
      "                                    List(\n",
      "                                        elts=[Name(id='tanh'),\n",
      "                                            Name(id='ReLU'),\n",
      "                                            Name(id='identity'),\n",
      "                                            Name(id='sigmoid')]),\n",
      "                                    List(elts=[Name(id='layer_1_out'), Name(id='layer_2_out')]),\n",
      "                                    Num(n=1),\n",
      "                                    NameConstant(value=None),\n",
      "                                    List(elts=[Name(id='layer_3_out')])])])],\n",
      "                keywords=[])),\n",
      "        Assign(targets=[Name(id='layer_1_out')],\n",
      "            value=Call(func=Attribute(value=Name(id='nni'), attr='get_layer_output'),\n",
      "                args=[Name(id='nni_layer_info'), Str(s='layer_1')],\n",
      "                keywords=[])),\n",
      "        Assign(targets=[Name(id='layer_2_out')],\n",
      "            value=Call(func=Attribute(value=Name(id='nni'), attr='get_layer_output'),\n",
      "                args=[Name(id='nni_layer_info'), Str(s='layer_2')],\n",
      "                keywords=[])),\n",
      "        Assign(targets=[List(elts=[Name(id='layer_3_out')])],\n",
      "            value=Call(func=Attribute(value=Name(id='nni'), attr='get_layer_output'),\n",
      "                args=[Name(id='nni_layer_info'), Str(s='layer_3')],\n",
      "                keywords=[])),\n",
      "        Assign(targets=[Name(id='final_output')], value=Name(id='layer_3_out')),\n",
      "        Assign(targets=[Name(id='all')],\n",
      "            value=List(elts=[Name(id='layer_1_out'), Name(id='layer_2_out'), Name(id='layer_3_out')])),\n",
      "        If(\n",
      "            test=Compare(left=Name(id='__name__'), ops=[Eq], comparators=[Str(s='main')]),\n",
      "            body=[Expr(value=Call(func=Name(id='func'), args=[], keywords=[]))],\n",
      "            orelse=[])])\n"
     ]
    }
   ],
   "source": [
    "foo(tt)"
   ]
  },
  {
   "cell_type": "code",
   "execution_count": 415,
   "metadata": {},
   "outputs": [
    {
     "name": "stdout",
     "output_type": "stream",
     "text": [
      "Module(body=[Expr(value=Dict(keys=[Str(s='ss')], values=[List(elts=[Num(n=1), Num(n=2), Num(n=3)])]))])\n"
     ]
    }
   ],
   "source": [
    "foo(ast.parse('{\"ss\":[1,2,3]}'))"
   ]
  },
  {
   "cell_type": "code",
   "execution_count": 282,
   "metadata": {},
   "outputs": [
    {
     "data": {
      "text/plain": [
       "\"Module(body=[Expr(value=Subscript(value=Subscript(value=Name(id='nni_layer_info', ctx=Load()), slice=Index(value=Str(s='layer_name')), ctx=Load()), slice=Index(value=Str(s='outputs')), ctx=Load()))])\""
      ]
     },
     "execution_count": 282,
     "metadata": {},
     "output_type": "execute_result"
    }
   ],
   "source": [
    "ast.dump(ast.parse(\"nni_layer_info['layer_name']['outputs']\"))"
   ]
  },
  {
   "cell_type": "code",
   "execution_count": 409,
   "metadata": {},
   "outputs": [],
   "source": [
    "def abc(i):\n",
    "    print('abc:', i)\n",
    "\n",
    "def bcd(q):\n",
    "    print('BCD: ', q)\n",
    "    \n",
    "dd = ['abc','bcd']"
   ]
  },
  {
   "cell_type": "code",
   "execution_count": 229,
   "metadata": {},
   "outputs": [
    {
     "name": "stdout",
     "output_type": "stream",
     "text": [
      "Module(body=[Assign(targets=[Name(id='a')], value=Name(id='b'))])\n"
     ]
    }
   ],
   "source": [
    "foo(ast.parse('a=b'))"
   ]
  },
  {
   "cell_type": "code",
   "execution_count": 412,
   "metadata": {},
   "outputs": [
    {
     "name": "stdout",
     "output_type": "stream",
     "text": [
      "abc: <function foo at 0x7ff10815abf8>\n",
      "BCD:  <function foo at 0x7ff10815abf8>\n",
      "abc: 123\n"
     ]
    }
   ],
   "source": [
    "fdd = [eval(i) for i in dd]\n",
    "for i in fdd:\n",
    "    i(foo)\n",
    "def jj(fu):\n",
    "    fu(123)\n",
    "    \n",
    "jj(abc)"
   ]
  },
  {
   "cell_type": "code",
   "execution_count": 394,
   "metadata": {},
   "outputs": [],
   "source": [
    "a=1\n",
    "b=2\n",
    "c=3"
   ]
  },
  {
   "cell_type": "code",
   "execution_count": 408,
   "metadata": {},
   "outputs": [
    {
     "data": {
      "text/plain": [
       "2"
      ]
     },
     "execution_count": 408,
     "metadata": {},
     "output_type": "execute_result"
    }
   ],
   "source": [
    "eval('b')"
   ]
  },
  {
   "cell_type": "code",
   "execution_count": 86,
   "metadata": {},
   "outputs": [
    {
     "data": {
      "text/plain": [
       "\"Module(body=[Assign(targets=[Name(id='layer_1_input_candidate', ctx=Store())], value=ListComp(elt=Subscript(value=Subscript(value=Subscript(value=Name(id='graph', ctx=Load()), slice=Index(value=Str(s='layer_1')), ctx=Load()), slice=Index(value=Str(s='input_candidates')), ctx=Load()), slice=Index(value=Name(id='x', ctx=Load())), ctx=Load()), generators=[comprehension(target=Name(id='x', ctx=Store()), iter=Call(func=Attribute(value=Name(id='nni', ctx=Load()), attr='get_candidate', ctx=Load()), args=[Str(s='layer_1')], keywords=[]), ifs=[], is_async=0)])), If(test=Compare(left=Subscript(value=Subscript(value=Name(id='graph', ctx=Load()), slice=Index(value=Str(s='layer_1')), ctx=Load()), slice=Index(value=Str(s='input_aggregate')), ctx=Load()), ops=[IsNot()], comparators=[NameConstant(value=None)]), body=[Assign(targets=[Name(id='layer_1_aggregated_output', ctx=Store())], value=Call(func=Subscript(value=Subscript(value=Name(id='graph', ctx=Load()), slice=Index(value=Str(s='layer_1')), ctx=Load()), slice=Index(value=Str(s='input_aggregate')), ctx=Load()), args=[Starred(value=Name(id='layer_1_input_candidate', ctx=Load()), ctx=Load())], keywords=[]))], orelse=[]), Assign(targets=[Name(id='layer_1_output', ctx=Store())], value=Call(func=Subscript(value=Subscript(value=Subscript(value=Name(id='graph', ctx=Load()), slice=Index(value=Str(s='layer_1')), ctx=Load()), slice=Index(value=Str(s='layer_choice')), ctx=Load()), slice=Index(value=Call(func=Attribute(value=Name(id='nni', ctx=Load()), attr='get_layer_choice', ctx=Load()), args=[Str(s='layer_1')], keywords=[])), ctx=Load()), args=[Name(id='layer_1_aggregated_output', ctx=Load())], keywords=[]))])\""
      ]
     },
     "execution_count": 86,
     "metadata": {},
     "output_type": "execute_result"
    }
   ],
   "source": [
    "ast.dump(ast.parse('''layer_1_input_candidate = [graph['layer_1']['input_candidates'][x] for x in nni.get_candidate('layer_1')]\n",
    "if graph['layer_1']['input_aggregate'] is not None:\n",
    "    layer_1_aggregated_output = graph['layer_1']['input_aggregate'](*layer_1_input_candidate,)\n",
    "layer_1_output = graph['layer_1']['layer_choice'][nni.get_layer_choice('layer_1')](layer_1_aggregated_output)'''))"
   ]
  },
  {
   "cell_type": "code",
   "execution_count": 98,
   "metadata": {},
   "outputs": [
    {
     "name": "stdout",
     "output_type": "stream",
     "text": [
      "layer_1_input_candidate = [graph['layer_1']['input_candidates'][x] for x in\n",
      "    nni.get_candidate('layer_1')]\n",
      "if graph['layer_1']['input_aggregate'] is not None:\n",
      "    layer_1_aggregated_output = graph['layer_1']['input_aggregate'](*\n",
      "        layer_1_input_candidate)\n",
      "layer_1_output = graph['layer_1']['layer_choice'][nni.get_layer_choice(\n",
      "    'layer_1')](layer_1_aggregated_output)\n",
      "\n"
     ]
    }
   ],
   "source": [
    "node = ast.parse('''layer_1_input_candidate = [graph['layer_1']['input_candidates'][x] for x in nni.get_candidate('layer_1')]\n",
    "if graph['layer_1']['input_aggregate'] is not None:\n",
    "    layer_1_aggregated_output = graph['layer_1']['input_aggregate'](*layer_1_input_candidate,)\n",
    "layer_1_output = graph['layer_1']['layer_choice'][nni.get_layer_choice('layer_1')](layer_1_aggregated_output)''')\n",
    "print(astor.to_source(node))"
   ]
  },
  {
   "cell_type": "code",
   "execution_count": 108,
   "metadata": {},
   "outputs": [
    {
     "ename": "AttributeError",
     "evalue": "No defined handler for node of type str",
     "output_type": "error",
     "traceback": [
      "\u001b[0;31m---------------------------------------------------------------------------\u001b[0m",
      "\u001b[0;31mAttributeError\u001b[0m                            Traceback (most recent call last)",
      "\u001b[0;32m<ipython-input-108-38039123eb08>\u001b[0m in \u001b[0;36m<module>\u001b[0;34m\u001b[0m\n\u001b[0;32m----> 1\u001b[0;31m \u001b[0mastor\u001b[0m\u001b[0;34m.\u001b[0m\u001b[0mto_source\u001b[0m\u001b[0;34m(\u001b[0m\u001b[0;34m\"Module(body=[Expr(value=Call(func=Name(id='foo', ctx=Load()), args=[Starred(value=Name(id='layer_1_input_candidate', ctx=Load()), ctx=Load())], keywords=[]))])\"\u001b[0m\u001b[0;34m)\u001b[0m\u001b[0;34m\u001b[0m\u001b[0;34m\u001b[0m\u001b[0m\n\u001b[0m",
      "\u001b[0;32m~/.local/lib/python3.6/site-packages/astor/code_gen.py\u001b[0m in \u001b[0;36mto_source\u001b[0;34m(node, indent_with, add_line_information, pretty_string, pretty_source)\u001b[0m\n\u001b[1;32m     50\u001b[0m     generator = SourceGenerator(indent_with, add_line_information,\n\u001b[1;32m     51\u001b[0m                                 pretty_string)\n\u001b[0;32m---> 52\u001b[0;31m     \u001b[0mgenerator\u001b[0m\u001b[0;34m.\u001b[0m\u001b[0mvisit\u001b[0m\u001b[0;34m(\u001b[0m\u001b[0mnode\u001b[0m\u001b[0;34m)\u001b[0m\u001b[0;34m\u001b[0m\u001b[0;34m\u001b[0m\u001b[0m\n\u001b[0m\u001b[1;32m     53\u001b[0m     \u001b[0mgenerator\u001b[0m\u001b[0;34m.\u001b[0m\u001b[0mresult\u001b[0m\u001b[0;34m.\u001b[0m\u001b[0mappend\u001b[0m\u001b[0;34m(\u001b[0m\u001b[0;34m'\\n'\u001b[0m\u001b[0;34m)\u001b[0m\u001b[0;34m\u001b[0m\u001b[0;34m\u001b[0m\u001b[0m\n\u001b[1;32m     54\u001b[0m     \u001b[0;32mif\u001b[0m \u001b[0mset\u001b[0m\u001b[0;34m(\u001b[0m\u001b[0mgenerator\u001b[0m\u001b[0;34m.\u001b[0m\u001b[0mresult\u001b[0m\u001b[0;34m[\u001b[0m\u001b[0;36m0\u001b[0m\u001b[0;34m]\u001b[0m\u001b[0;34m)\u001b[0m \u001b[0;34m==\u001b[0m \u001b[0mset\u001b[0m\u001b[0;34m(\u001b[0m\u001b[0;34m'\\n'\u001b[0m\u001b[0;34m)\u001b[0m\u001b[0;34m:\u001b[0m\u001b[0;34m\u001b[0m\u001b[0;34m\u001b[0m\u001b[0m\n",
      "\u001b[0;32m~/.local/lib/python3.6/site-packages/astor/node_util.py\u001b[0m in \u001b[0;36mvisit\u001b[0;34m(self, node, abort)\u001b[0m\n\u001b[1;32m    141\u001b[0m         \u001b[0mmethod\u001b[0m \u001b[0;34m=\u001b[0m \u001b[0;34m'visit_'\u001b[0m \u001b[0;34m+\u001b[0m \u001b[0mnode\u001b[0m\u001b[0;34m.\u001b[0m\u001b[0m__class__\u001b[0m\u001b[0;34m.\u001b[0m\u001b[0m__name__\u001b[0m\u001b[0;34m\u001b[0m\u001b[0;34m\u001b[0m\u001b[0m\n\u001b[1;32m    142\u001b[0m         \u001b[0mvisitor\u001b[0m \u001b[0;34m=\u001b[0m \u001b[0mgetattr\u001b[0m\u001b[0;34m(\u001b[0m\u001b[0mself\u001b[0m\u001b[0;34m,\u001b[0m \u001b[0mmethod\u001b[0m\u001b[0;34m,\u001b[0m \u001b[0mabort\u001b[0m\u001b[0;34m)\u001b[0m\u001b[0;34m\u001b[0m\u001b[0;34m\u001b[0m\u001b[0m\n\u001b[0;32m--> 143\u001b[0;31m         \u001b[0;32mreturn\u001b[0m \u001b[0mvisitor\u001b[0m\u001b[0;34m(\u001b[0m\u001b[0mnode\u001b[0m\u001b[0;34m)\u001b[0m\u001b[0;34m\u001b[0m\u001b[0;34m\u001b[0m\u001b[0m\n\u001b[0m\u001b[1;32m    144\u001b[0m \u001b[0;34m\u001b[0m\u001b[0m\n\u001b[1;32m    145\u001b[0m \u001b[0;34m\u001b[0m\u001b[0m\n",
      "\u001b[0;32m~/.local/lib/python3.6/site-packages/astor/node_util.py\u001b[0m in \u001b[0;36mabort_visit\u001b[0;34m(node)\u001b[0m\n\u001b[1;32m    135\u001b[0m     \u001b[0;32mdef\u001b[0m \u001b[0mabort_visit\u001b[0m\u001b[0;34m(\u001b[0m\u001b[0mnode\u001b[0m\u001b[0;34m)\u001b[0m\u001b[0;34m:\u001b[0m  \u001b[0;31m# XXX: self?\u001b[0m\u001b[0;34m\u001b[0m\u001b[0;34m\u001b[0m\u001b[0m\n\u001b[1;32m    136\u001b[0m         \u001b[0mmsg\u001b[0m \u001b[0;34m=\u001b[0m \u001b[0;34m'No defined handler for node of type %s'\u001b[0m\u001b[0;34m\u001b[0m\u001b[0;34m\u001b[0m\u001b[0m\n\u001b[0;32m--> 137\u001b[0;31m         \u001b[0;32mraise\u001b[0m \u001b[0mAttributeError\u001b[0m\u001b[0;34m(\u001b[0m\u001b[0mmsg\u001b[0m \u001b[0;34m%\u001b[0m \u001b[0mnode\u001b[0m\u001b[0;34m.\u001b[0m\u001b[0m__class__\u001b[0m\u001b[0;34m.\u001b[0m\u001b[0m__name__\u001b[0m\u001b[0;34m)\u001b[0m\u001b[0;34m\u001b[0m\u001b[0;34m\u001b[0m\u001b[0m\n\u001b[0m\u001b[1;32m    138\u001b[0m \u001b[0;34m\u001b[0m\u001b[0m\n\u001b[1;32m    139\u001b[0m     \u001b[0;32mdef\u001b[0m \u001b[0mvisit\u001b[0m\u001b[0;34m(\u001b[0m\u001b[0mself\u001b[0m\u001b[0;34m,\u001b[0m \u001b[0mnode\u001b[0m\u001b[0;34m,\u001b[0m \u001b[0mabort\u001b[0m\u001b[0;34m=\u001b[0m\u001b[0mabort_visit\u001b[0m\u001b[0;34m)\u001b[0m\u001b[0;34m:\u001b[0m\u001b[0;34m\u001b[0m\u001b[0;34m\u001b[0m\u001b[0m\n",
      "\u001b[0;31mAttributeError\u001b[0m: No defined handler for node of type str"
     ]
    }
   ],
   "source": [
    "astor.to_source(\"ast.parse('\"djfkslfk\"')\")"
   ]
  },
  {
   "cell_type": "code",
   "execution_count": 99,
   "metadata": {},
   "outputs": [
    {
     "data": {
      "text/plain": [
       "\"Module(body=[Expr(value=Call(func=Name(id='foo', ctx=Load()), args=[Starred(value=Name(id='layer_1_input_candidate', ctx=Load()), ctx=Load())], keywords=[]))])\""
      ]
     },
     "execution_count": 99,
     "metadata": {},
     "output_type": "execute_result"
    }
   ],
   "source": [
    "ast.dump(ast.parse(\"foo(*layer_1_input_candidate,)\"))"
   ]
  },
  {
   "cell_type": "code",
   "execution_count": 100,
   "metadata": {},
   "outputs": [
    {
     "data": {
      "text/plain": [
       "\"Module(body=[Expr(value=Call(func=Name(id='foo', ctx=Load()), args=[Starred(value=Name(id='layer_1_input_candidate', ctx=Load()), ctx=Load())], keywords=[]))])\""
      ]
     },
     "execution_count": 100,
     "metadata": {},
     "output_type": "execute_result"
    }
   ],
   "source": [
    "ast.dump(ast.parse(\"foo(*layer_1_input_candidate)\"))"
   ]
  },
  {
   "cell_type": "code",
   "execution_count": 106,
   "metadata": {},
   "outputs": [],
   "source": [
    "def expand_layer(layer_name):\n",
    "    template = '''layer_name_input_candidate = [graph['layer_name']['input_candidates'][x] for x in nni.get_candidate('layer_name')]\n",
    "if graph['layer_name']['input_aggregate'] is not None:\n",
    "    layer_name_aggregated_output = graph['layer_name']['input_aggregate'](*layer_name_input_candidate,)\n",
    "layer_name_output = graph['layer_name']['layer_choice'][nni.get_layer_choice('layer_name')](layer_name_aggregated_output)'''\n",
    "    template = template.replace('layer_name', layer_name)\n",
    "    return template"
   ]
  },
  {
   "cell_type": "code",
   "execution_count": 107,
   "metadata": {},
   "outputs": [
    {
     "data": {
      "text/plain": [
       "\"fuck_input_candidate = [graph['fuck']['input_candidates'][x] for x in nni.get_candidate('fuck')]\\nif graph['fuck']['input_aggregate'] is not None:\\n    fuck_aggregated_output = graph['fuck']['input_aggregate'](*fuck_input_candidate,)\\nfuck_output = graph['fuck']['layer_choice'][nni.get_layer_choice('fuck')](fuck_aggregated_output)\""
      ]
     },
     "execution_count": 107,
     "metadata": {},
     "output_type": "execute_result"
    }
   ],
   "source": [
    "expand_layer('fuck')"
   ]
  },
  {
   "cell_type": "code",
   "execution_count": 111,
   "metadata": {},
   "outputs": [],
   "source": [
    "node=ast.parse(\"foo(*layer_1_input_candidate,)\")"
   ]
  },
  {
   "cell_type": "code",
   "execution_count": 122,
   "metadata": {},
   "outputs": [],
   "source": [
    "a = node.body[0].value.args[0]\n",
    "#node.body[0].value.args = [ast.Tuple(a)]"
   ]
  },
  {
   "cell_type": "code",
   "execution_count": 127,
   "metadata": {},
   "outputs": [],
   "source": [
    "see=ast.Tuple(elts=[a], ctx=ast.Store())"
   ]
  },
  {
   "cell_type": "code",
   "execution_count": 128,
   "metadata": {},
   "outputs": [
    {
     "data": {
      "text/plain": [
       "\"Tuple(elts=[Starred(value=Name(id='layer_1_input_candidate', ctx=Load()), ctx=Load())], ctx=Store())\""
      ]
     },
     "execution_count": 128,
     "metadata": {},
     "output_type": "execute_result"
    }
   ],
   "source": [
    "ast.dump(see)"
   ]
  },
  {
   "cell_type": "code",
   "execution_count": 129,
   "metadata": {},
   "outputs": [],
   "source": [
    "node.body[0].value.args[0] = see"
   ]
  },
  {
   "cell_type": "code",
   "execution_count": 130,
   "metadata": {},
   "outputs": [
    {
     "data": {
      "text/plain": [
       "'foo((*layer_1_input_candidate,))\\n'"
      ]
     },
     "execution_count": 130,
     "metadata": {},
     "output_type": "execute_result"
    }
   ],
   "source": [
    "astor.to_source(node)"
   ]
  },
  {
   "cell_type": "code",
   "execution_count": null,
   "metadata": {},
   "outputs": [],
   "source": []
  },
  {
   "cell_type": "code",
   "execution_count": 119,
   "metadata": {},
   "outputs": [
    {
     "data": {
      "text/plain": [
       "\"Module(body=[Assign(targets=[Tuple(elts=[Starred(value=Name(id='a', ctx=Store()), ctx=Store())], ctx=Store())], value=List(elts=[Num(n=1), Num(n=2), Num(n=3), Num(n=4)], ctx=Load()))])\""
      ]
     },
     "execution_count": 119,
     "metadata": {},
     "output_type": "execute_result"
    }
   ],
   "source": [
    "ast.dump(ast.parse(\"*a, = [1,2,3,4]\"))"
   ]
  },
  {
   "cell_type": "code",
   "execution_count": 120,
   "metadata": {},
   "outputs": [
    {
     "data": {
      "text/plain": [
       "'*a, = [1, 2, 3, 4]\\n'"
      ]
     },
     "execution_count": 120,
     "metadata": {},
     "output_type": "execute_result"
    }
   ],
   "source": [
    "astor.to_source(ast.parse(\"*a, = [1,2,3,4]\"))"
   ]
  },
  {
   "cell_type": "code",
   "execution_count": null,
   "metadata": {},
   "outputs": [],
   "source": []
  },
  {
   "cell_type": "code",
   "execution_count": 73,
   "metadata": {},
   "outputs": [],
   "source": [
    "def foo(ast_tree):\n",
    "    print('\\n'.join(re.split('\\n|\\\\\\\\n', astor.dump_tree(ast_tree))))"
   ]
  }
 ],
 "metadata": {
  "kernelspec": {
   "display_name": "mykernel",
   "language": "python",
   "name": "mykernel"
  },
  "language_info": {
   "codemirror_mode": {
    "name": "ipython",
    "version": 3
   },
   "file_extension": ".py",
   "mimetype": "text/x-python",
   "name": "python",
   "nbconvert_exporter": "python",
   "pygments_lexer": "ipython3",
   "version": "3.6.7"
  }
 },
 "nbformat": 4,
 "nbformat_minor": 2
}
