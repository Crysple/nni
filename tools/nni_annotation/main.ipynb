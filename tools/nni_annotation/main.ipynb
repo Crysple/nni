{
 "cells": [
  {
   "cell_type": "code",
   "execution_count": 90,
   "metadata": {},
   "outputs": [],
   "source": [
    "import ast, astor\n",
    "import json"
   ]
  },
  {
   "cell_type": "code",
   "execution_count": 68,
   "metadata": {},
   "outputs": [],
   "source": [
    "file_content = open('design.py', 'r').read()\n",
    "ast_tree = ast.parse(file_content)"
   ]
  },
  {
   "cell_type": "code",
   "execution_count": 69,
   "metadata": {},
   "outputs": [
    {
     "data": {
      "text/plain": [
       "<_ast.Module at 0x7ff1080ec160>"
      ]
     },
     "execution_count": 69,
     "metadata": {},
     "output_type": "execute_result"
    }
   ],
   "source": [
    "ast_tree"
   ]
  },
  {
   "cell_type": "code",
   "execution_count": 70,
   "metadata": {},
   "outputs": [],
   "source": [
    "s = ast_tree.body[0].value.s"
   ]
  },
  {
   "cell_type": "code",
   "execution_count": 72,
   "metadata": {},
   "outputs": [],
   "source": [
    "if s.startswith('@nni.architecture'):\n",
    "    block = ast.parse(s[len('@nni.architecture')+1:])"
   ]
  },
  {
   "cell_type": "code",
   "execution_count": 71,
   "metadata": {},
   "outputs": [
    {
     "data": {
      "text/plain": [
       "<_ast.Module at 0x7ff108110ac8>"
      ]
     },
     "execution_count": 71,
     "metadata": {},
     "output_type": "execute_result"
    }
   ],
   "source": []
  },
  {
   "cell_type": "code",
   "execution_count": 67,
   "metadata": {},
   "outputs": [
    {
     "ename": "NameError",
     "evalue": "name 'block_name' is not defined",
     "output_type": "error",
     "traceback": [
      "\u001b[0;31m---------------------------------------------------------------------------\u001b[0m",
      "\u001b[0;31mNameError\u001b[0m                                 Traceback (most recent call last)",
      "\u001b[0;32m<ipython-input-67-15cb3467cd17>\u001b[0m in \u001b[0;36m<module>\u001b[0;34m\u001b[0m\n\u001b[1;32m      1\u001b[0m {\n\u001b[0;32m----> 2\u001b[0;31m     \u001b[0mblock_name\u001b[0m\u001b[0;34m:\u001b[0m \u001b[0mblock_1\u001b[0m\u001b[0;34m,\u001b[0m\u001b[0;34m\u001b[0m\u001b[0;34m\u001b[0m\u001b[0m\n\u001b[0m\u001b[1;32m      3\u001b[0m     \u001b[0mblock_inputs\u001b[0m\u001b[0;34m:\u001b[0m \u001b[0;34m[\u001b[0m\u001b[0mx_t\u001b[0m\u001b[0;34m,\u001b[0m \u001b[0mh_t\u001b[0m\u001b[0;34m-\u001b[0m\u001b[0;36m1\u001b[0m\u001b[0;34m]\u001b[0m\u001b[0;34m,\u001b[0m\u001b[0;34m\u001b[0m\u001b[0;34m\u001b[0m\u001b[0m\n\u001b[1;32m      4\u001b[0m     \u001b[0mblock_output_aggregate\u001b[0m\u001b[0;34m:\u001b[0m \u001b[0maggregate_free_outs\u001b[0m\u001b[0;34m,\u001b[0m\u001b[0;34m\u001b[0m\u001b[0;34m\u001b[0m\u001b[0m\n\u001b[1;32m      5\u001b[0m     \u001b[0mblock_outputs\u001b[0m\u001b[0;34m:\u001b[0m \u001b[0;34m[\u001b[0m\u001b[0mh_t\u001b[0m\u001b[0;34m]\u001b[0m\u001b[0;34m,\u001b[0m\u001b[0;34m\u001b[0m\u001b[0;34m\u001b[0m\u001b[0m\n",
      "\u001b[0;31mNameError\u001b[0m: name 'block_name' is not defined"
     ]
    }
   ],
   "source": [
    "{\n",
    "    block_name: block_1,\n",
    "    block_inputs: [x_t, h_t-1],\n",
    "    block_output_aggregate: aggregate_free_outs,\n",
    "    block_outputs: [h_t],\n",
    "\n",
    "    layer_1: {\n",
    "        layer_choice: [tanh, ReLU, identity, sigmoid],\n",
    "        input_candidates: [images],\n",
    "        input_num: 1,\n",
    "        input_aggregate: null,\n",
    "        outputs: [out],\n",
    "    },\n",
    "\n",
    "    layer_2: {\n",
    "        layer_choice: [tanh, ReLU, identity, sigmoid],\n",
    "        input_candidates: [layer_[1:1]/out],\n",
    "        input_switch: choose_one,\n",
    "        outputs: [out],\n",
    "    },\n",
    "\n",
    "    layer_3: {\n",
    "        layer_choice: [tanh, ReLU, identity, sigmoid],\n",
    "        input_candidates: [layer_[1:2]/out],\n",
    "        input_switch: choose_one,\n",
    "        outputs: [out],\n",
    "    }\n",
    "}"
   ]
  },
  {
   "cell_type": "code",
   "execution_count": null,
   "metadata": {},
   "outputs": [],
   "source": []
  },
  {
   "cell_type": "code",
   "execution_count": 76,
   "metadata": {},
   "outputs": [
    {
     "data": {
      "text/plain": [
       "str"
      ]
     },
     "execution_count": 76,
     "metadata": {},
     "output_type": "execute_result"
    }
   ],
   "source": [
    "type(.keys[0].id)"
   ]
  },
  {
   "cell_type": "code",
   "execution_count": 78,
   "metadata": {},
   "outputs": [
    {
     "name": "stdout",
     "output_type": "stream",
     "text": [
      "layer_1\n",
      "layer_2\n",
      "layer_3\n"
     ]
    }
   ],
   "source": [
    "block_dict = block.body[0].value\n",
    "for key, value in zip(block_dict.keys, block_dict.values):\n",
    "    if isinstance(value, ast.Dict):\n",
    "        print(key.id)"
   ]
  },
  {
   "cell_type": "code",
   "execution_count": null,
   "metadata": {},
   "outputs": [],
   "source": []
  },
  {
   "cell_type": "code",
   "execution_count": 73,
   "metadata": {},
   "outputs": [],
   "source": [
    "def foo(ast_tree):\n",
    "    print('\\n'.join(re.split('\\n|\\\\\\\\n', astor.dump_tree(ast_tree))))"
   ]
  },
  {
   "cell_type": "code",
   "execution_count": 133,
   "metadata": {},
   "outputs": [
    {
     "data": {
      "text/plain": [
       "'{block_name: block_1, block_inputs: [x_t, h_t - 1], block_output_aggregate:\\n    aggregate_free_outs, block_outputs: [h_t], layer_1: {layer_choice: [\\n    tanh, ReLU, identity, sigmoid], input_candidates: [images], input_num: \\n    1, input_aggregate: null, outputs: [out]}, layer_2: {layer_choice: [\\n    tanh, ReLU, identity, sigmoid], input_candidates: [layer_[1:1] / out],\\n    input_switch: choose_one, outputs: [out]}, layer_3: {layer_choice: [\\n    tanh, ReLU, identity, sigmoid], input_candidates: [layer_[1:2] / out],\\n    input_switch: choose_one, outputs: [out]}}\\n'"
      ]
     },
     "execution_count": 133,
     "metadata": {},
     "output_type": "execute_result"
    }
   ],
   "source": [
    "astor.to_source(block)"
   ]
  },
  {
   "cell_type": "code",
   "execution_count": 134,
   "metadata": {},
   "outputs": [
    {
     "data": {
      "text/plain": [
       "<_ast.Module at 0x7ff1081127f0>"
      ]
     },
     "execution_count": 134,
     "metadata": {},
     "output_type": "execute_result"
    }
   ],
   "source": [
    "block"
   ]
  },
  {
   "cell_type": "code",
   "execution_count": 136,
   "metadata": {},
   "outputs": [],
   "source": [
    "import copy\n",
    "bbb = copy.deepcopy(block)"
   ]
  },
  {
   "cell_type": "code",
   "execution_count": 177,
   "metadata": {},
   "outputs": [],
   "source": [
    "class RewriteName(ast.NodeTransformer):\n",
    "\n",
    "    def visit_Name(self, node):\n",
    "        return ast.Str(s=node.id)"
   ]
  },
  {
   "cell_type": "code",
   "execution_count": 178,
   "metadata": {},
   "outputs": [],
   "source": [
    "rewriteName = RewriteName()\n",
    "aaa=rewriteName.visit(bbb)"
   ]
  },
  {
   "cell_type": "code",
   "execution_count": 181,
   "metadata": {},
   "outputs": [
    {
     "name": "stdout",
     "output_type": "stream",
     "text": [
      "{'block_name': 'block_1', 'block_inputs': ['x_t', 'h_t' - 1],\n",
      "    'block_output_aggregate': 'aggregate_free_outs', 'block_outputs': [\n",
      "    'h_t'], 'layer_1': {'layer_choice': ['tanh', 'ReLU', 'identity',\n",
      "    'sigmoid'], 'input_candidates': ['images'], 'input_num': 1,\n",
      "    'input_aggregate': 'null', 'outputs': ['out']}, 'layer_2': {\n",
      "    'layer_choice': ['tanh', 'ReLU', 'identity', 'sigmoid'],\n",
      "    'input_candidates': ['layer_'[1:1] / 'out'], 'input_switch':\n",
      "    'choose_one', 'outputs': ['out']}, 'layer_3': {'layer_choice': ['tanh',\n",
      "    'ReLU', 'identity', 'sigmoid'], 'input_candidates': ['layer_'[1:2] /\n",
      "    'out'], 'input_switch': 'choose_one', 'outputs': ['out']}}\n",
      "\n"
     ]
    }
   ],
   "source": [
    "print(astor.to_source(bbb))"
   ]
  },
  {
   "cell_type": "code",
   "execution_count": 180,
   "metadata": {},
   "outputs": [
    {
     "data": {
      "text/plain": [
       "\"Module(body=[Expr(value=Dict(keys=[Str(s='block_name'), Str(s='block_inputs'), Str(s='block_output_aggregate'), Str(s='block_outputs'), Str(s='layer_1'), Str(s='layer_2'), Str(s='layer_3')], values=[Str(s='block_1'), List(elts=[Str(s='x_t'), BinOp(left=Str(s='h_t'), op=Sub(), right=Num(n=1))], ctx=Load()), Str(s='aggregate_free_outs'), List(elts=[Str(s='h_t')], ctx=Load()), Dict(keys=[Str(s='layer_choice'), Str(s='input_candidates'), Str(s='input_num'), Str(s='input_aggregate'), Str(s='outputs')], values=[List(elts=[Str(s='tanh'), Str(s='ReLU'), Str(s='identity'), Str(s='sigmoid')], ctx=Load()), List(elts=[Str(s='images')], ctx=Load()), Num(n=1), Str(s='null'), List(elts=[Str(s='out')], ctx=Load())]), Dict(keys=[Str(s='layer_choice'), Str(s='input_candidates'), Str(s='input_switch'), Str(s='outputs')], values=[List(elts=[Str(s='tanh'), Str(s='ReLU'), Str(s='identity'), Str(s='sigmoid')], ctx=Load()), List(elts=[BinOp(left=Subscript(value=Str(s='layer_'), slice=Slice(lower=Num(n=1), upper=Num(n=1), step=None), ctx=Load()), op=Div(), right=Str(s='out'))], ctx=Load()), Str(s='choose_one'), List(elts=[Str(s='out')], ctx=Load())]), Dict(keys=[Str(s='layer_choice'), Str(s='input_candidates'), Str(s='input_switch'), Str(s='outputs')], values=[List(elts=[Str(s='tanh'), Str(s='ReLU'), Str(s='identity'), Str(s='sigmoid')], ctx=Load()), List(elts=[BinOp(left=Subscript(value=Str(s='layer_'), slice=Slice(lower=Num(n=1), upper=Num(n=2), step=None), ctx=Load()), op=Div(), right=Str(s='out'))], ctx=Load()), Str(s='choose_one'), List(elts=[Str(s='out')], ctx=Load())])]))])\""
      ]
     },
     "execution_count": 180,
     "metadata": {},
     "output_type": "execute_result"
    }
   ],
   "source": [
    "ast.dump(bbb)"
   ]
  },
  {
   "cell_type": "code",
   "execution_count": null,
   "metadata": {},
   "outputs": [],
   "source": []
  },
  {
   "cell_type": "code",
   "execution_count": null,
   "metadata": {},
   "outputs": [],
   "source": []
  },
  {
   "cell_type": "code",
   "execution_count": null,
   "metadata": {},
   "outputs": [],
   "source": []
  },
  {
   "cell_type": "code",
   "execution_count": null,
   "metadata": {},
   "outputs": [],
   "source": []
  },
  {
   "cell_type": "code",
   "execution_count": null,
   "metadata": {},
   "outputs": [],
   "source": []
  },
  {
   "cell_type": "code",
   "execution_count": 79,
   "metadata": {},
   "outputs": [
    {
     "name": "stdout",
     "output_type": "stream",
     "text": [
      "Module(\n",
      "    body=[\n",
      "        Expr(\n",
      "            value=Str(\n",
      "                s='@nni.architecture\n",
      "{\n",
      "    block_name: block_1,\n",
      "    block_inputs: [x_t, h_t-1],\n",
      "    block_output_aggregate: aggregate_free_outs,\n",
      "    block_outputs: [h_t],\n",
      "\n",
      "    layer_1: {\n",
      "        layer_choice: [tanh, ReLU, identity, sigmoid],\n",
      "        input_candidates: [images],\n",
      "        input_num: 1,\n",
      "        input_aggregate: null,\n",
      "        outputs: [out],\n",
      "    },\n",
      "\n",
      "    layer_2: {\n",
      "        layer_choice: [tanh, ReLU, identity, sigmoid],\n",
      "        input_candidates: [layer_[1:1]/out],\n",
      "        input_switch: choose_one,\n",
      "        outputs: [out],\n",
      "    },\n",
      "\n",
      "    layer_3: {\n",
      "        layer_choice: [tanh, ReLU, identity, sigmoid],\n",
      "        input_candidates: [layer_[1:2]/out],\n",
      "        input_switch: choose_one,\n",
      "        outputs: [out],\n",
      "    }\n",
      "}\n",
      "')),\n",
      "        Assign(targets=[Name(id='layer_1_input_candidate')],\n",
      "            value=ListComp(\n",
      "                elt=Subscript(\n",
      "                    value=Subscript(\n",
      "                        value=Subscript(value=Name(id='graph'), slice=Index(value=Str(s='layer_1'))),\n",
      "                        slice=Index(value=Str(s='input_candidates'))),\n",
      "                    slice=Index(value=Name(id='x'))),\n",
      "                generators=[\n",
      "                    comprehension(target=Name(id='x'),\n",
      "                        iter=Call(func=Attribute(value=Name(id='nni'), attr='get_candidate'),\n",
      "                            args=[Str(s='layer_1')],\n",
      "                            keywords=[]),\n",
      "                        ifs=[],\n",
      "                        is_async=0)])),\n",
      "        If(\n",
      "            test=Compare(\n",
      "                left=Subscript(\n",
      "                    value=Subscript(value=Name(id='graph'), slice=Index(value=Str(s='layer_1'))),\n",
      "                    slice=Index(value=Str(s='input_aggregate'))),\n",
      "                ops=[IsNot],\n",
      "                comparators=[Name(id='null')]),\n",
      "            body=[\n",
      "                Assign(targets=[Name(id='layer_1_aggregated_output')],\n",
      "                    value=Call(\n",
      "                        func=Subscript(\n",
      "                            value=Subscript(value=Name(id='graph'), slice=Index(value=Str(s='layer_1'))),\n",
      "                            slice=Index(value=Str(s='input_aggregate'))),\n",
      "                        args=[Starred(value=Name(id='layer_1_input_candidate'))],\n",
      "                        keywords=[]))],\n",
      "            orelse=[]),\n",
      "        Assign(targets=[Name(id='layer_1_output')],\n",
      "            value=Call(\n",
      "                func=Subscript(\n",
      "                    value=Subscript(\n",
      "                        value=Subscript(value=Name(id='graph'), slice=Index(value=Str(s='layer_1'))),\n",
      "                        slice=Index(value=Str(s='layer_choice'))),\n",
      "                    slice=Index(\n",
      "                        value=Call(func=Attribute(value=Name(id='nni'), attr='get_layer_choice'),\n",
      "                            args=[Str(s='layer_1')],\n",
      "                            keywords=[]))),\n",
      "                args=[Name(id='layer_1_aggregated_output')],\n",
      "                keywords=[]))])\n"
     ]
    }
   ],
   "source": [
    "foo(ast_tree)"
   ]
  },
  {
   "cell_type": "code",
   "execution_count": null,
   "metadata": {},
   "outputs": [],
   "source": []
  },
  {
   "cell_type": "code",
   "execution_count": null,
   "metadata": {},
   "outputs": [],
   "source": []
  },
  {
   "cell_type": "code",
   "execution_count": 82,
   "metadata": {},
   "outputs": [],
   "source": [
    "None"
   ]
  },
  {
   "cell_type": "code",
   "execution_count": 86,
   "metadata": {},
   "outputs": [
    {
     "data": {
      "text/plain": [
       "\"Module(body=[Assign(targets=[Name(id='layer_1_input_candidate', ctx=Store())], value=ListComp(elt=Subscript(value=Subscript(value=Subscript(value=Name(id='graph', ctx=Load()), slice=Index(value=Str(s='layer_1')), ctx=Load()), slice=Index(value=Str(s='input_candidates')), ctx=Load()), slice=Index(value=Name(id='x', ctx=Load())), ctx=Load()), generators=[comprehension(target=Name(id='x', ctx=Store()), iter=Call(func=Attribute(value=Name(id='nni', ctx=Load()), attr='get_candidate', ctx=Load()), args=[Str(s='layer_1')], keywords=[]), ifs=[], is_async=0)])), If(test=Compare(left=Subscript(value=Subscript(value=Name(id='graph', ctx=Load()), slice=Index(value=Str(s='layer_1')), ctx=Load()), slice=Index(value=Str(s='input_aggregate')), ctx=Load()), ops=[IsNot()], comparators=[NameConstant(value=None)]), body=[Assign(targets=[Name(id='layer_1_aggregated_output', ctx=Store())], value=Call(func=Subscript(value=Subscript(value=Name(id='graph', ctx=Load()), slice=Index(value=Str(s='layer_1')), ctx=Load()), slice=Index(value=Str(s='input_aggregate')), ctx=Load()), args=[Starred(value=Name(id='layer_1_input_candidate', ctx=Load()), ctx=Load())], keywords=[]))], orelse=[]), Assign(targets=[Name(id='layer_1_output', ctx=Store())], value=Call(func=Subscript(value=Subscript(value=Subscript(value=Name(id='graph', ctx=Load()), slice=Index(value=Str(s='layer_1')), ctx=Load()), slice=Index(value=Str(s='layer_choice')), ctx=Load()), slice=Index(value=Call(func=Attribute(value=Name(id='nni', ctx=Load()), attr='get_layer_choice', ctx=Load()), args=[Str(s='layer_1')], keywords=[])), ctx=Load()), args=[Name(id='layer_1_aggregated_output', ctx=Load())], keywords=[]))])\""
      ]
     },
     "execution_count": 86,
     "metadata": {},
     "output_type": "execute_result"
    }
   ],
   "source": [
    "ast.dump(ast.parse('''layer_1_input_candidate = [graph['layer_1']['input_candidates'][x] for x in nni.get_candidate('layer_1')]\n",
    "if graph['layer_1']['input_aggregate'] is not None:\n",
    "    layer_1_aggregated_output = graph['layer_1']['input_aggregate'](*layer_1_input_candidate,)\n",
    "layer_1_output = graph['layer_1']['layer_choice'][nni.get_layer_choice('layer_1')](layer_1_aggregated_output)'''))"
   ]
  },
  {
   "cell_type": "code",
   "execution_count": 98,
   "metadata": {},
   "outputs": [
    {
     "name": "stdout",
     "output_type": "stream",
     "text": [
      "layer_1_input_candidate = [graph['layer_1']['input_candidates'][x] for x in\n",
      "    nni.get_candidate('layer_1')]\n",
      "if graph['layer_1']['input_aggregate'] is not None:\n",
      "    layer_1_aggregated_output = graph['layer_1']['input_aggregate'](*\n",
      "        layer_1_input_candidate)\n",
      "layer_1_output = graph['layer_1']['layer_choice'][nni.get_layer_choice(\n",
      "    'layer_1')](layer_1_aggregated_output)\n",
      "\n"
     ]
    }
   ],
   "source": [
    "node = ast.parse('''layer_1_input_candidate = [graph['layer_1']['input_candidates'][x] for x in nni.get_candidate('layer_1')]\n",
    "if graph['layer_1']['input_aggregate'] is not None:\n",
    "    layer_1_aggregated_output = graph['layer_1']['input_aggregate'](*layer_1_input_candidate,)\n",
    "layer_1_output = graph['layer_1']['layer_choice'][nni.get_layer_choice('layer_1')](layer_1_aggregated_output)''')\n",
    "print(astor.to_source(node))"
   ]
  },
  {
   "cell_type": "code",
   "execution_count": 108,
   "metadata": {},
   "outputs": [
    {
     "ename": "AttributeError",
     "evalue": "No defined handler for node of type str",
     "output_type": "error",
     "traceback": [
      "\u001b[0;31m---------------------------------------------------------------------------\u001b[0m",
      "\u001b[0;31mAttributeError\u001b[0m                            Traceback (most recent call last)",
      "\u001b[0;32m<ipython-input-108-38039123eb08>\u001b[0m in \u001b[0;36m<module>\u001b[0;34m\u001b[0m\n\u001b[0;32m----> 1\u001b[0;31m \u001b[0mastor\u001b[0m\u001b[0;34m.\u001b[0m\u001b[0mto_source\u001b[0m\u001b[0;34m(\u001b[0m\u001b[0;34m\"Module(body=[Expr(value=Call(func=Name(id='foo', ctx=Load()), args=[Starred(value=Name(id='layer_1_input_candidate', ctx=Load()), ctx=Load())], keywords=[]))])\"\u001b[0m\u001b[0;34m)\u001b[0m\u001b[0;34m\u001b[0m\u001b[0;34m\u001b[0m\u001b[0m\n\u001b[0m",
      "\u001b[0;32m~/.local/lib/python3.6/site-packages/astor/code_gen.py\u001b[0m in \u001b[0;36mto_source\u001b[0;34m(node, indent_with, add_line_information, pretty_string, pretty_source)\u001b[0m\n\u001b[1;32m     50\u001b[0m     generator = SourceGenerator(indent_with, add_line_information,\n\u001b[1;32m     51\u001b[0m                                 pretty_string)\n\u001b[0;32m---> 52\u001b[0;31m     \u001b[0mgenerator\u001b[0m\u001b[0;34m.\u001b[0m\u001b[0mvisit\u001b[0m\u001b[0;34m(\u001b[0m\u001b[0mnode\u001b[0m\u001b[0;34m)\u001b[0m\u001b[0;34m\u001b[0m\u001b[0;34m\u001b[0m\u001b[0m\n\u001b[0m\u001b[1;32m     53\u001b[0m     \u001b[0mgenerator\u001b[0m\u001b[0;34m.\u001b[0m\u001b[0mresult\u001b[0m\u001b[0;34m.\u001b[0m\u001b[0mappend\u001b[0m\u001b[0;34m(\u001b[0m\u001b[0;34m'\\n'\u001b[0m\u001b[0;34m)\u001b[0m\u001b[0;34m\u001b[0m\u001b[0;34m\u001b[0m\u001b[0m\n\u001b[1;32m     54\u001b[0m     \u001b[0;32mif\u001b[0m \u001b[0mset\u001b[0m\u001b[0;34m(\u001b[0m\u001b[0mgenerator\u001b[0m\u001b[0;34m.\u001b[0m\u001b[0mresult\u001b[0m\u001b[0;34m[\u001b[0m\u001b[0;36m0\u001b[0m\u001b[0;34m]\u001b[0m\u001b[0;34m)\u001b[0m \u001b[0;34m==\u001b[0m \u001b[0mset\u001b[0m\u001b[0;34m(\u001b[0m\u001b[0;34m'\\n'\u001b[0m\u001b[0;34m)\u001b[0m\u001b[0;34m:\u001b[0m\u001b[0;34m\u001b[0m\u001b[0;34m\u001b[0m\u001b[0m\n",
      "\u001b[0;32m~/.local/lib/python3.6/site-packages/astor/node_util.py\u001b[0m in \u001b[0;36mvisit\u001b[0;34m(self, node, abort)\u001b[0m\n\u001b[1;32m    141\u001b[0m         \u001b[0mmethod\u001b[0m \u001b[0;34m=\u001b[0m \u001b[0;34m'visit_'\u001b[0m \u001b[0;34m+\u001b[0m \u001b[0mnode\u001b[0m\u001b[0;34m.\u001b[0m\u001b[0m__class__\u001b[0m\u001b[0;34m.\u001b[0m\u001b[0m__name__\u001b[0m\u001b[0;34m\u001b[0m\u001b[0;34m\u001b[0m\u001b[0m\n\u001b[1;32m    142\u001b[0m         \u001b[0mvisitor\u001b[0m \u001b[0;34m=\u001b[0m \u001b[0mgetattr\u001b[0m\u001b[0;34m(\u001b[0m\u001b[0mself\u001b[0m\u001b[0;34m,\u001b[0m \u001b[0mmethod\u001b[0m\u001b[0;34m,\u001b[0m \u001b[0mabort\u001b[0m\u001b[0;34m)\u001b[0m\u001b[0;34m\u001b[0m\u001b[0;34m\u001b[0m\u001b[0m\n\u001b[0;32m--> 143\u001b[0;31m         \u001b[0;32mreturn\u001b[0m \u001b[0mvisitor\u001b[0m\u001b[0;34m(\u001b[0m\u001b[0mnode\u001b[0m\u001b[0;34m)\u001b[0m\u001b[0;34m\u001b[0m\u001b[0;34m\u001b[0m\u001b[0m\n\u001b[0m\u001b[1;32m    144\u001b[0m \u001b[0;34m\u001b[0m\u001b[0m\n\u001b[1;32m    145\u001b[0m \u001b[0;34m\u001b[0m\u001b[0m\n",
      "\u001b[0;32m~/.local/lib/python3.6/site-packages/astor/node_util.py\u001b[0m in \u001b[0;36mabort_visit\u001b[0;34m(node)\u001b[0m\n\u001b[1;32m    135\u001b[0m     \u001b[0;32mdef\u001b[0m \u001b[0mabort_visit\u001b[0m\u001b[0;34m(\u001b[0m\u001b[0mnode\u001b[0m\u001b[0;34m)\u001b[0m\u001b[0;34m:\u001b[0m  \u001b[0;31m# XXX: self?\u001b[0m\u001b[0;34m\u001b[0m\u001b[0;34m\u001b[0m\u001b[0m\n\u001b[1;32m    136\u001b[0m         \u001b[0mmsg\u001b[0m \u001b[0;34m=\u001b[0m \u001b[0;34m'No defined handler for node of type %s'\u001b[0m\u001b[0;34m\u001b[0m\u001b[0;34m\u001b[0m\u001b[0m\n\u001b[0;32m--> 137\u001b[0;31m         \u001b[0;32mraise\u001b[0m \u001b[0mAttributeError\u001b[0m\u001b[0;34m(\u001b[0m\u001b[0mmsg\u001b[0m \u001b[0;34m%\u001b[0m \u001b[0mnode\u001b[0m\u001b[0;34m.\u001b[0m\u001b[0m__class__\u001b[0m\u001b[0;34m.\u001b[0m\u001b[0m__name__\u001b[0m\u001b[0;34m)\u001b[0m\u001b[0;34m\u001b[0m\u001b[0;34m\u001b[0m\u001b[0m\n\u001b[0m\u001b[1;32m    138\u001b[0m \u001b[0;34m\u001b[0m\u001b[0m\n\u001b[1;32m    139\u001b[0m     \u001b[0;32mdef\u001b[0m \u001b[0mvisit\u001b[0m\u001b[0;34m(\u001b[0m\u001b[0mself\u001b[0m\u001b[0;34m,\u001b[0m \u001b[0mnode\u001b[0m\u001b[0;34m,\u001b[0m \u001b[0mabort\u001b[0m\u001b[0;34m=\u001b[0m\u001b[0mabort_visit\u001b[0m\u001b[0;34m)\u001b[0m\u001b[0;34m:\u001b[0m\u001b[0;34m\u001b[0m\u001b[0;34m\u001b[0m\u001b[0m\n",
      "\u001b[0;31mAttributeError\u001b[0m: No defined handler for node of type str"
     ]
    }
   ],
   "source": [
    "astor.to_source(\"ast.parse('\"djfkslfk\"')\")"
   ]
  },
  {
   "cell_type": "code",
   "execution_count": 99,
   "metadata": {},
   "outputs": [
    {
     "data": {
      "text/plain": [
       "\"Module(body=[Expr(value=Call(func=Name(id='foo', ctx=Load()), args=[Starred(value=Name(id='layer_1_input_candidate', ctx=Load()), ctx=Load())], keywords=[]))])\""
      ]
     },
     "execution_count": 99,
     "metadata": {},
     "output_type": "execute_result"
    }
   ],
   "source": [
    "ast.dump(ast.parse(\"foo(*layer_1_input_candidate,)\"))"
   ]
  },
  {
   "cell_type": "code",
   "execution_count": 100,
   "metadata": {},
   "outputs": [
    {
     "data": {
      "text/plain": [
       "\"Module(body=[Expr(value=Call(func=Name(id='foo', ctx=Load()), args=[Starred(value=Name(id='layer_1_input_candidate', ctx=Load()), ctx=Load())], keywords=[]))])\""
      ]
     },
     "execution_count": 100,
     "metadata": {},
     "output_type": "execute_result"
    }
   ],
   "source": [
    "ast.dump(ast.parse(\"foo(*layer_1_input_candidate)\"))"
   ]
  },
  {
   "cell_type": "code",
   "execution_count": 106,
   "metadata": {},
   "outputs": [],
   "source": [
    "def expand_layer(layer_name):\n",
    "    template = '''layer_name_input_candidate = [graph['layer_name']['input_candidates'][x] for x in nni.get_candidate('layer_name')]\n",
    "if graph['layer_name']['input_aggregate'] is not None:\n",
    "    layer_name_aggregated_output = graph['layer_name']['input_aggregate'](*layer_name_input_candidate,)\n",
    "layer_name_output = graph['layer_name']['layer_choice'][nni.get_layer_choice('layer_name')](layer_name_aggregated_output)'''\n",
    "    template = template.replace('layer_name', layer_name)\n",
    "    return template"
   ]
  },
  {
   "cell_type": "code",
   "execution_count": 107,
   "metadata": {},
   "outputs": [
    {
     "data": {
      "text/plain": [
       "\"fuck_input_candidate = [graph['fuck']['input_candidates'][x] for x in nni.get_candidate('fuck')]\\nif graph['fuck']['input_aggregate'] is not None:\\n    fuck_aggregated_output = graph['fuck']['input_aggregate'](*fuck_input_candidate,)\\nfuck_output = graph['fuck']['layer_choice'][nni.get_layer_choice('fuck')](fuck_aggregated_output)\""
      ]
     },
     "execution_count": 107,
     "metadata": {},
     "output_type": "execute_result"
    }
   ],
   "source": [
    "expand_layer('fuck')"
   ]
  },
  {
   "cell_type": "code",
   "execution_count": 111,
   "metadata": {},
   "outputs": [],
   "source": [
    "node=ast.parse(\"foo(*layer_1_input_candidate,)\")"
   ]
  },
  {
   "cell_type": "code",
   "execution_count": 122,
   "metadata": {},
   "outputs": [],
   "source": [
    "a = node.body[0].value.args[0]\n",
    "#node.body[0].value.args = [ast.Tuple(a)]"
   ]
  },
  {
   "cell_type": "code",
   "execution_count": 127,
   "metadata": {},
   "outputs": [],
   "source": [
    "see=ast.Tuple(elts=[a], ctx=ast.Store())"
   ]
  },
  {
   "cell_type": "code",
   "execution_count": 128,
   "metadata": {},
   "outputs": [
    {
     "data": {
      "text/plain": [
       "\"Tuple(elts=[Starred(value=Name(id='layer_1_input_candidate', ctx=Load()), ctx=Load())], ctx=Store())\""
      ]
     },
     "execution_count": 128,
     "metadata": {},
     "output_type": "execute_result"
    }
   ],
   "source": [
    "ast.dump(see)"
   ]
  },
  {
   "cell_type": "code",
   "execution_count": 129,
   "metadata": {},
   "outputs": [],
   "source": [
    "node.body[0].value.args[0] = see"
   ]
  },
  {
   "cell_type": "code",
   "execution_count": 130,
   "metadata": {},
   "outputs": [
    {
     "data": {
      "text/plain": [
       "'foo((*layer_1_input_candidate,))\\n'"
      ]
     },
     "execution_count": 130,
     "metadata": {},
     "output_type": "execute_result"
    }
   ],
   "source": [
    "astor.to_source(node)"
   ]
  },
  {
   "cell_type": "code",
   "execution_count": null,
   "metadata": {},
   "outputs": [],
   "source": []
  },
  {
   "cell_type": "code",
   "execution_count": 119,
   "metadata": {},
   "outputs": [
    {
     "data": {
      "text/plain": [
       "\"Module(body=[Assign(targets=[Tuple(elts=[Starred(value=Name(id='a', ctx=Store()), ctx=Store())], ctx=Store())], value=List(elts=[Num(n=1), Num(n=2), Num(n=3), Num(n=4)], ctx=Load()))])\""
      ]
     },
     "execution_count": 119,
     "metadata": {},
     "output_type": "execute_result"
    }
   ],
   "source": [
    "ast.dump(ast.parse(\"*a, = [1,2,3,4]\"))"
   ]
  },
  {
   "cell_type": "code",
   "execution_count": 120,
   "metadata": {},
   "outputs": [
    {
     "data": {
      "text/plain": [
       "'*a, = [1, 2, 3, 4]\\n'"
      ]
     },
     "execution_count": 120,
     "metadata": {},
     "output_type": "execute_result"
    }
   ],
   "source": [
    "astor.to_source(ast.parse(\"*a, = [1,2,3,4]\"))"
   ]
  },
  {
   "cell_type": "code",
   "execution_count": null,
   "metadata": {},
   "outputs": [],
   "source": []
  }
 ],
 "metadata": {
  "kernelspec": {
   "display_name": "mykernel",
   "language": "python",
   "name": "mykernel"
  },
  "language_info": {
   "codemirror_mode": {
    "name": "ipython",
    "version": 3
   },
   "file_extension": ".py",
   "mimetype": "text/x-python",
   "name": "python",
   "nbconvert_exporter": "python",
   "pygments_lexer": "ipython3",
   "version": "3.6.7"
  }
 },
 "nbformat": 4,
 "nbformat_minor": 2
}
